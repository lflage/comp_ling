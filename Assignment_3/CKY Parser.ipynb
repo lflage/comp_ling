{
 "cells": [
  {
   "cell_type": "code",
   "execution_count": 69,
   "id": "8534c462",
   "metadata": {},
   "outputs": [],
   "source": [
    "import nltk\n",
    "import numpy as np\n",
    "import numpy.matlib\n",
    "from nltk.grammar import *\n",
    "from pprint import pprint"
   ]
  },
  {
   "cell_type": "markdown",
   "id": "f4b6c7c3",
   "metadata": {},
   "source": [
    "# Loading the Corpus and Grammars"
   ]
  },
  {
   "cell_type": "code",
   "execution_count": 2,
   "id": "7ce19994",
   "metadata": {},
   "outputs": [],
   "source": [
    "# Loads the ATIS CNF grammar and the sentences. If the sentences file is not available,\n",
    "# automatically downloads it and loads it\n",
    "\n",
    "try:\n",
    "    grammar = nltk.data.load('atis/atis-grammar-cnf.cfg')\n",
    "    s = nltk.data.load('grammars/large_grammars/atis_sentences.txt')\n",
    "    t = nltk.parse.util.extract_test_sentences(s)\n",
    "    \n",
    "except LookupError:\n",
    "    nltk.download('large_grammars')\n",
    "    \n",
    "    grammar = nltk.data.load('atis/atis-grammar-cnf.cfg')\n",
    "    s = nltk.data.load('grammars/large_grammars/atis_sentences.txt')\n",
    "    t = nltk.parse.util.extract_test_sentences(s)"
   ]
  },
  {
   "cell_type": "code",
   "execution_count": null,
   "id": "2b045767",
   "metadata": {},
   "outputs": [],
   "source": [
    "with open('atis/atis-grammar-cnf.cfg','r') as string_cfg:\n",
    "    grammar1 = nltk.grammar.CFG.fromstring(string_cfg.read())\n",
    "grammar1"
   ]
  },
  {
   "cell_type": "markdown",
   "id": "62b6a879",
   "metadata": {},
   "source": [
    "## Test Grammar"
   ]
  },
  {
   "cell_type": "code",
   "execution_count": 42,
   "id": "3cbff4fc",
   "metadata": {},
   "outputs": [
    {
     "data": {
      "text/plain": [
       "[S -> NP VP,\n",
       " NP -> Det N,\n",
       " NP -> NP PP,\n",
       " PP -> P NP,\n",
       " VP -> V NP,\n",
       " VP -> VP PP,\n",
       " NP -> 'I',\n",
       " N -> 'elephant',\n",
       " N -> 'pajamas',\n",
       " V -> 'shot',\n",
       " P -> 'in',\n",
       " Det -> 'an',\n",
       " Det -> 'my',\n",
       " TESTE -> 'shot']"
      ]
     },
     "execution_count": 42,
     "metadata": {},
     "output_type": "execute_result"
    }
   ],
   "source": [
    "test_grammar_string = '''\n",
    "S -> NP VP\n",
    "NP -> Det N\n",
    "NP -> NP PP\n",
    "PP -> P NP\n",
    "VP -> V NP\n",
    "VP -> VP PP\n",
    "\n",
    "NP -> 'I'\n",
    "N -> 'elephant'\n",
    "N -> 'pajamas'\n",
    "V -> 'shot'\n",
    "P -> 'in'\n",
    "Det -> 'an'\n",
    "Det -> 'my'\n",
    "TESTE -> 'shot'\n",
    "'''\n",
    "\n",
    "test_grammar = nltk.grammar.CFG.fromstring(test_grammar_string)\n",
    "test_grammar.productions()"
   ]
  },
  {
   "cell_type": "code",
   "execution_count": 33,
   "id": "4b79aa50",
   "metadata": {},
   "outputs": [
    {
     "data": {
      "text/plain": [
       "[V -> 'shot']"
      ]
     },
     "execution_count": 33,
     "metadata": {},
     "output_type": "execute_result"
    }
   ],
   "source": [
    "test_grammar.productions(rhs='shot')"
   ]
  },
  {
   "cell_type": "code",
   "execution_count": 7,
   "id": "b1cf9768",
   "metadata": {},
   "outputs": [
    {
     "ename": "NameError",
     "evalue": "name 'grammar1' is not defined",
     "output_type": "error",
     "traceback": [
      "\u001b[0;31m---------------------------------------------------------------------------\u001b[0m",
      "\u001b[0;31mNameError\u001b[0m                                 Traceback (most recent call last)",
      "\u001b[0;32m/tmp/ipykernel_51044/180931291.py\u001b[0m in \u001b[0;36m<module>\u001b[0;34m\u001b[0m\n\u001b[1;32m      1\u001b[0m \u001b[0;31m# Return the grammar productions, filtered by the left-hand side\u001b[0m\u001b[0;34m\u001b[0m\u001b[0;34m\u001b[0m\u001b[0m\n\u001b[1;32m      2\u001b[0m \u001b[0;31m# or the first item in the right-hand side.\u001b[0m\u001b[0;34m\u001b[0m\u001b[0;34m\u001b[0m\u001b[0m\n\u001b[0;32m----> 3\u001b[0;31m \u001b[0;32mfor\u001b[0m \u001b[0mprod\u001b[0m \u001b[0;32min\u001b[0m \u001b[0mgrammar1\u001b[0m\u001b[0;34m.\u001b[0m\u001b[0mproductions\u001b[0m\u001b[0;34m(\u001b[0m\u001b[0mlhs\u001b[0m\u001b[0;34m=\u001b[0m\u001b[0mNonterminal\u001b[0m\u001b[0;34m(\u001b[0m\u001b[0;34m'order'\u001b[0m\u001b[0;34m)\u001b[0m\u001b[0;34m)\u001b[0m\u001b[0;34m:\u001b[0m\u001b[0;34m\u001b[0m\u001b[0;34m\u001b[0m\u001b[0m\n\u001b[0m\u001b[1;32m      4\u001b[0m     \u001b[0mprint\u001b[0m\u001b[0;34m(\u001b[0m\u001b[0mprod\u001b[0m\u001b[0;34m)\u001b[0m\u001b[0;34m\u001b[0m\u001b[0;34m\u001b[0m\u001b[0m\n\u001b[1;32m      5\u001b[0m \u001b[0mrule\u001b[0m \u001b[0;34m=\u001b[0m \u001b[0mgrammar1\u001b[0m\u001b[0;34m.\u001b[0m\u001b[0mproductions\u001b[0m\u001b[0;34m(\u001b[0m\u001b[0mlhs\u001b[0m\u001b[0;34m=\u001b[0m\u001b[0mNonterminal\u001b[0m\u001b[0;34m(\u001b[0m\u001b[0;34m'order'\u001b[0m\u001b[0;34m)\u001b[0m\u001b[0;34m)\u001b[0m\u001b[0;34m\u001b[0m\u001b[0;34m\u001b[0m\u001b[0m\n",
      "\u001b[0;31mNameError\u001b[0m: name 'grammar1' is not defined"
     ]
    }
   ],
   "source": [
    "# Return the grammar productions, filtered by the left-hand side\n",
    "# or the first item in the right-hand side.\n",
    "for prod in grammar1.productions(lhs=Nonterminal('order')):\n",
    "    print(prod)\n",
    "rule = grammar1.productions(lhs=Nonterminal('order'))\n",
    "\n"
   ]
  },
  {
   "cell_type": "code",
   "execution_count": 20,
   "id": "556f969c",
   "metadata": {},
   "outputs": [
    {
     "name": "stdout",
     "output_type": "stream",
     "text": [
      "[]\n"
     ]
    }
   ],
   "source": [
    "print(test_grammar.productions(rhs=Nonterminal('elephant')))"
   ]
  },
  {
   "cell_type": "code",
   "execution_count": 101,
   "id": "8c111a8f",
   "metadata": {},
   "outputs": [],
   "source": [
    "def CKY_recognizer(sentence, grammar):\n",
    "    sent_list = sentence.split()\n",
    "    n = len(sent_list)\n",
    "    #Initializes a Matrix\n",
    "    matrix = [[0 for i in range(n)] for j in range(n)]\n",
    "\n",
    "    for i in range(1, n+1):\n",
    "        # Adds all possible terminal nodes according to the grammar\n",
    "        # need to add the fuction to retrieve in the grammar\n",
    "        #print(matrix)\n",
    "        matrix[n-i][i-1] = [rule.lhs()\n",
    "                            for rule in grammar.productions(rhs=sent_list[i-1])]\n",
    "    r=0\n",
    "    for b in range(2, n+1):\n",
    "        #print('b =', b)\n",
    "        for i in range(0, n-b+1):\n",
    "            #print('i =', i)\n",
    "            \n",
    "            # elemento a ser acessado na matrix [n-b-i][i]\n",
    "            row = n-b-i\n",
    "            column = i\n",
    "            \n",
    "            A = matrix[row][column]\n",
    "            for k in range(1, b): # b = 3, k {1,2}\n",
    "                # B fixa o valor da coluna e varia na linha\n",
    "                B = matrix[row + (b-k)][column]\n",
    "                C = matrix[row][column + k]\n",
    "                A = B + C\n",
    "                \n",
    "                \n",
    "                \n",
    "                matrix[n-b-i][i] = B + C\n",
    "                \n",
    "                print('B =', B)\n",
    "                print('C =', C)\n",
    "                if input(''):\n",
    "                    pass\n",
    "#             matrix[n-b-i][i] = r\n",
    "#             r+=1\n",
    "            pprint(matrix)\n",
    "            print('\\n')\n",
    "            \n",
    "#             for k in range(1, b-1):\n",
    "#                 B = matrix[i,i+k]\n",
    "#                 C = matrix[i+k, i+b]\n",
    "#                 # for each production rule A add A to the element matrix[i, i+b]\n",
    "#                 matrix[i,i+b]\n",
    "#                 print(matrix)\n",
    "#             # Check the elments of the matrix \n",
    "                   \n",
    "#             matrix[i][j] = \"inside matrix\"\n",
    "#             print(matrix)\n",
    "                \n",
    "    return matrix"
   ]
  },
  {
   "cell_type": "code",
   "execution_count": 102,
   "id": "4ca5fd04",
   "metadata": {},
   "outputs": [
    {
     "name": "stdout",
     "output_type": "stream",
     "text": [
      "B = [NP]\n",
      "C = [V, TESTE]\n",
      "\n",
      "[[0, 0, 0, 0, 0, 0, [N]],\n",
      " [0, 0, 0, 0, 0, [Det], 0],\n",
      " [0, 0, 0, 0, [P], 0, 0],\n",
      " [0, 0, 0, [N], 0, 0, 0],\n",
      " [0, 0, [Det], 0, 0, 0, 0],\n",
      " [[NP, V, TESTE], [V, TESTE], 0, 0, 0, 0, 0],\n",
      " [[NP], 0, 0, 0, 0, 0, 0]]\n",
      "\n",
      "\n",
      "B = [V, TESTE]\n",
      "C = [Det]\n",
      "\n",
      "[[0, 0, 0, 0, 0, 0, [N]],\n",
      " [0, 0, 0, 0, 0, [Det], 0],\n",
      " [0, 0, 0, 0, [P], 0, 0],\n",
      " [0, 0, 0, [N], 0, 0, 0],\n",
      " [0, [V, TESTE, Det], [Det], 0, 0, 0, 0],\n",
      " [[NP, V, TESTE], [V, TESTE], 0, 0, 0, 0, 0],\n",
      " [[NP], 0, 0, 0, 0, 0, 0]]\n",
      "\n",
      "\n",
      "B = [Det]\n",
      "C = [N]\n",
      "\n",
      "[[0, 0, 0, 0, 0, 0, [N]],\n",
      " [0, 0, 0, 0, 0, [Det], 0],\n",
      " [0, 0, 0, 0, [P], 0, 0],\n",
      " [0, 0, [Det, N], [N], 0, 0, 0],\n",
      " [0, [V, TESTE, Det], [Det], 0, 0, 0, 0],\n",
      " [[NP, V, TESTE], [V, TESTE], 0, 0, 0, 0, 0],\n",
      " [[NP], 0, 0, 0, 0, 0, 0]]\n",
      "\n",
      "\n",
      "B = [N]\n",
      "C = [P]\n",
      "\n",
      "[[0, 0, 0, 0, 0, 0, [N]],\n",
      " [0, 0, 0, 0, 0, [Det], 0],\n",
      " [0, 0, 0, [N, P], [P], 0, 0],\n",
      " [0, 0, [Det, N], [N], 0, 0, 0],\n",
      " [0, [V, TESTE, Det], [Det], 0, 0, 0, 0],\n",
      " [[NP, V, TESTE], [V, TESTE], 0, 0, 0, 0, 0],\n",
      " [[NP], 0, 0, 0, 0, 0, 0]]\n",
      "\n",
      "\n",
      "B = [P]\n",
      "C = [Det]\n",
      "\n",
      "[[0, 0, 0, 0, 0, 0, [N]],\n",
      " [0, 0, 0, 0, [P, Det], [Det], 0],\n",
      " [0, 0, 0, [N, P], [P], 0, 0],\n",
      " [0, 0, [Det, N], [N], 0, 0, 0],\n",
      " [0, [V, TESTE, Det], [Det], 0, 0, 0, 0],\n",
      " [[NP, V, TESTE], [V, TESTE], 0, 0, 0, 0, 0],\n",
      " [[NP], 0, 0, 0, 0, 0, 0]]\n",
      "\n",
      "\n",
      "B = [Det]\n",
      "C = [N]\n",
      "\n",
      "[[0, 0, 0, 0, 0, [Det, N], [N]],\n",
      " [0, 0, 0, 0, [P, Det], [Det], 0],\n",
      " [0, 0, 0, [N, P], [P], 0, 0],\n",
      " [0, 0, [Det, N], [N], 0, 0, 0],\n",
      " [0, [V, TESTE, Det], [Det], 0, 0, 0, 0],\n",
      " [[NP, V, TESTE], [V, TESTE], 0, 0, 0, 0, 0],\n",
      " [[NP], 0, 0, 0, 0, 0, 0]]\n",
      "\n",
      "\n",
      "B = [NP]\n",
      "C = [V, TESTE, Det]\n",
      "\n",
      "B = [NP, V, TESTE]\n",
      "C = [Det]\n",
      "\n",
      "[[0, 0, 0, 0, 0, [Det, N], [N]],\n",
      " [0, 0, 0, 0, [P, Det], [Det], 0],\n",
      " [0, 0, 0, [N, P], [P], 0, 0],\n",
      " [0, 0, [Det, N], [N], 0, 0, 0],\n",
      " [[NP, V, TESTE, Det], [V, TESTE, Det], [Det], 0, 0, 0, 0],\n",
      " [[NP, V, TESTE], [V, TESTE], 0, 0, 0, 0, 0],\n",
      " [[NP], 0, 0, 0, 0, 0, 0]]\n",
      "\n",
      "\n",
      "B = [V, TESTE]\n",
      "C = [Det, N]\n",
      "\n",
      "B = [V, TESTE, Det]\n",
      "C = [N]\n",
      "\n",
      "[[0, 0, 0, 0, 0, [Det, N], [N]],\n",
      " [0, 0, 0, 0, [P, Det], [Det], 0],\n",
      " [0, 0, 0, [N, P], [P], 0, 0],\n",
      " [0, [V, TESTE, Det, N], [Det, N], [N], 0, 0, 0],\n",
      " [[NP, V, TESTE, Det], [V, TESTE, Det], [Det], 0, 0, 0, 0],\n",
      " [[NP, V, TESTE], [V, TESTE], 0, 0, 0, 0, 0],\n",
      " [[NP], 0, 0, 0, 0, 0, 0]]\n",
      "\n",
      "\n",
      "B = [Det]\n",
      "C = [N, P]\n",
      "\n",
      "B = [Det, N]\n",
      "C = [P]\n",
      "\n",
      "[[0, 0, 0, 0, 0, [Det, N], [N]],\n",
      " [0, 0, 0, 0, [P, Det], [Det], 0],\n",
      " [0, 0, [Det, N, P], [N, P], [P], 0, 0],\n",
      " [0, [V, TESTE, Det, N], [Det, N], [N], 0, 0, 0],\n",
      " [[NP, V, TESTE, Det], [V, TESTE, Det], [Det], 0, 0, 0, 0],\n",
      " [[NP, V, TESTE], [V, TESTE], 0, 0, 0, 0, 0],\n",
      " [[NP], 0, 0, 0, 0, 0, 0]]\n",
      "\n",
      "\n",
      "B = [N]\n",
      "C = [P, Det]\n",
      "\n",
      "B = [N, P]\n",
      "C = [Det]\n",
      "\n",
      "[[0, 0, 0, 0, 0, [Det, N], [N]],\n",
      " [0, 0, 0, [N, P, Det], [P, Det], [Det], 0],\n",
      " [0, 0, [Det, N, P], [N, P], [P], 0, 0],\n",
      " [0, [V, TESTE, Det, N], [Det, N], [N], 0, 0, 0],\n",
      " [[NP, V, TESTE, Det], [V, TESTE, Det], [Det], 0, 0, 0, 0],\n",
      " [[NP, V, TESTE], [V, TESTE], 0, 0, 0, 0, 0],\n",
      " [[NP], 0, 0, 0, 0, 0, 0]]\n",
      "\n",
      "\n",
      "B = [P]\n",
      "C = [Det, N]\n",
      "\n",
      "B = [P, Det]\n",
      "C = [N]\n",
      "\n",
      "[[0, 0, 0, 0, [P, Det, N], [Det, N], [N]],\n",
      " [0, 0, 0, [N, P, Det], [P, Det], [Det], 0],\n",
      " [0, 0, [Det, N, P], [N, P], [P], 0, 0],\n",
      " [0, [V, TESTE, Det, N], [Det, N], [N], 0, 0, 0],\n",
      " [[NP, V, TESTE, Det], [V, TESTE, Det], [Det], 0, 0, 0, 0],\n",
      " [[NP, V, TESTE], [V, TESTE], 0, 0, 0, 0, 0],\n",
      " [[NP], 0, 0, 0, 0, 0, 0]]\n",
      "\n",
      "\n",
      "B = [NP]\n",
      "C = [V, TESTE, Det, N]\n",
      "\n",
      "B = [NP, V, TESTE]\n",
      "C = [Det, N]\n",
      "\n",
      "B = [NP, V, TESTE, Det]\n",
      "C = [N]\n",
      "\n",
      "[[0, 0, 0, 0, [P, Det, N], [Det, N], [N]],\n",
      " [0, 0, 0, [N, P, Det], [P, Det], [Det], 0],\n",
      " [0, 0, [Det, N, P], [N, P], [P], 0, 0],\n",
      " [[NP, V, TESTE, Det, N], [V, TESTE, Det, N], [Det, N], [N], 0, 0, 0],\n",
      " [[NP, V, TESTE, Det], [V, TESTE, Det], [Det], 0, 0, 0, 0],\n",
      " [[NP, V, TESTE], [V, TESTE], 0, 0, 0, 0, 0],\n",
      " [[NP], 0, 0, 0, 0, 0, 0]]\n",
      "\n",
      "\n",
      "B = [V, TESTE]\n",
      "C = [Det, N, P]\n",
      "\n",
      "B = [V, TESTE, Det]\n",
      "C = [N, P]\n",
      "\n",
      "B = [V, TESTE, Det, N]\n",
      "C = [P]\n",
      "\n",
      "[[0, 0, 0, 0, [P, Det, N], [Det, N], [N]],\n",
      " [0, 0, 0, [N, P, Det], [P, Det], [Det], 0],\n",
      " [0, [V, TESTE, Det, N, P], [Det, N, P], [N, P], [P], 0, 0],\n",
      " [[NP, V, TESTE, Det, N], [V, TESTE, Det, N], [Det, N], [N], 0, 0, 0],\n",
      " [[NP, V, TESTE, Det], [V, TESTE, Det], [Det], 0, 0, 0, 0],\n",
      " [[NP, V, TESTE], [V, TESTE], 0, 0, 0, 0, 0],\n",
      " [[NP], 0, 0, 0, 0, 0, 0]]\n",
      "\n",
      "\n",
      "B = [Det]\n",
      "C = [N, P, Det]\n",
      "\n",
      "B = [Det, N]\n",
      "C = [P, Det]\n",
      "\n",
      "B = [Det, N, P]\n",
      "C = [Det]\n",
      "\n",
      "[[0, 0, 0, 0, [P, Det, N], [Det, N], [N]],\n",
      " [0, 0, [Det, N, P, Det], [N, P, Det], [P, Det], [Det], 0],\n",
      " [0, [V, TESTE, Det, N, P], [Det, N, P], [N, P], [P], 0, 0],\n",
      " [[NP, V, TESTE, Det, N], [V, TESTE, Det, N], [Det, N], [N], 0, 0, 0],\n",
      " [[NP, V, TESTE, Det], [V, TESTE, Det], [Det], 0, 0, 0, 0],\n",
      " [[NP, V, TESTE], [V, TESTE], 0, 0, 0, 0, 0],\n",
      " [[NP], 0, 0, 0, 0, 0, 0]]\n",
      "\n",
      "\n",
      "B = [N]\n",
      "C = [P, Det, N]\n",
      "\n",
      "B = [N, P]\n",
      "C = [Det, N]\n",
      "\n",
      "B = [N, P, Det]\n",
      "C = [N]\n",
      "\n",
      "[[0, 0, 0, [N, P, Det, N], [P, Det, N], [Det, N], [N]],\n",
      " [0, 0, [Det, N, P, Det], [N, P, Det], [P, Det], [Det], 0],\n",
      " [0, [V, TESTE, Det, N, P], [Det, N, P], [N, P], [P], 0, 0],\n",
      " [[NP, V, TESTE, Det, N], [V, TESTE, Det, N], [Det, N], [N], 0, 0, 0],\n",
      " [[NP, V, TESTE, Det], [V, TESTE, Det], [Det], 0, 0, 0, 0],\n",
      " [[NP, V, TESTE], [V, TESTE], 0, 0, 0, 0, 0],\n",
      " [[NP], 0, 0, 0, 0, 0, 0]]\n",
      "\n",
      "\n",
      "B = [NP]\n",
      "C = [V, TESTE, Det, N, P]\n",
      "\n",
      "B = [NP, V, TESTE]\n",
      "C = [Det, N, P]\n",
      "\n",
      "B = [NP, V, TESTE, Det]\n",
      "C = [N, P]\n",
      "\n",
      "B = [NP, V, TESTE, Det, N]\n",
      "C = [P]\n",
      "\n",
      "[[0, 0, 0, [N, P, Det, N], [P, Det, N], [Det, N], [N]],\n",
      " [0, 0, [Det, N, P, Det], [N, P, Det], [P, Det], [Det], 0],\n",
      " [[NP, V, TESTE, Det, N, P],\n",
      "  [V, TESTE, Det, N, P],\n",
      "  [Det, N, P],\n",
      "  [N, P],\n",
      "  [P],\n",
      "  0,\n",
      "  0],\n",
      " [[NP, V, TESTE, Det, N], [V, TESTE, Det, N], [Det, N], [N], 0, 0, 0],\n",
      " [[NP, V, TESTE, Det], [V, TESTE, Det], [Det], 0, 0, 0, 0],\n",
      " [[NP, V, TESTE], [V, TESTE], 0, 0, 0, 0, 0],\n",
      " [[NP], 0, 0, 0, 0, 0, 0]]\n",
      "\n",
      "\n",
      "B = [V, TESTE]\n",
      "C = [Det, N, P, Det]\n",
      "\n",
      "B = [V, TESTE, Det]\n",
      "C = [N, P, Det]\n",
      "\n",
      "B = [V, TESTE, Det, N]\n",
      "C = [P, Det]\n"
     ]
    },
    {
     "ename": "KeyboardInterrupt",
     "evalue": "Interrupted by user",
     "output_type": "error",
     "traceback": [
      "\u001b[0;31m---------------------------------------------------------------------------\u001b[0m",
      "\u001b[0;31mKeyboardInterrupt\u001b[0m                         Traceback (most recent call last)",
      "\u001b[0;32m/tmp/ipykernel_51044/694001712.py\u001b[0m in \u001b[0;36m<module>\u001b[0;34m\u001b[0m\n\u001b[0;32m----> 1\u001b[0;31m \u001b[0mchart\u001b[0m \u001b[0;34m=\u001b[0m \u001b[0mCKY_recognizer\u001b[0m\u001b[0;34m(\u001b[0m\u001b[0;34m'I shot an elephant in my pajamas'\u001b[0m\u001b[0;34m,\u001b[0m \u001b[0mtest_grammar\u001b[0m\u001b[0;34m)\u001b[0m\u001b[0;34m\u001b[0m\u001b[0;34m\u001b[0m\u001b[0m\n\u001b[0m\u001b[1;32m      2\u001b[0m \u001b[0mpprint\u001b[0m\u001b[0;34m(\u001b[0m\u001b[0mchart\u001b[0m\u001b[0;34m)\u001b[0m\u001b[0;34m\u001b[0m\u001b[0;34m\u001b[0m\u001b[0m\n",
      "\u001b[0;32m/tmp/ipykernel_51044/414818254.py\u001b[0m in \u001b[0;36mCKY_recognizer\u001b[0;34m(sentence, grammar)\u001b[0m\n\u001b[1;32m     34\u001b[0m                 \u001b[0mprint\u001b[0m\u001b[0;34m(\u001b[0m\u001b[0;34m'B ='\u001b[0m\u001b[0;34m,\u001b[0m \u001b[0mB\u001b[0m\u001b[0;34m)\u001b[0m\u001b[0;34m\u001b[0m\u001b[0;34m\u001b[0m\u001b[0m\n\u001b[1;32m     35\u001b[0m                 \u001b[0mprint\u001b[0m\u001b[0;34m(\u001b[0m\u001b[0;34m'C ='\u001b[0m\u001b[0;34m,\u001b[0m \u001b[0mC\u001b[0m\u001b[0;34m)\u001b[0m\u001b[0;34m\u001b[0m\u001b[0;34m\u001b[0m\u001b[0m\n\u001b[0;32m---> 36\u001b[0;31m                 \u001b[0;32mif\u001b[0m \u001b[0minput\u001b[0m\u001b[0;34m(\u001b[0m\u001b[0;34m''\u001b[0m\u001b[0;34m)\u001b[0m\u001b[0;34m:\u001b[0m\u001b[0;34m\u001b[0m\u001b[0;34m\u001b[0m\u001b[0m\n\u001b[0m\u001b[1;32m     37\u001b[0m                     \u001b[0;32mpass\u001b[0m\u001b[0;34m\u001b[0m\u001b[0;34m\u001b[0m\u001b[0m\n\u001b[1;32m     38\u001b[0m \u001b[0;31m#             matrix[n-b-i][i] = r\u001b[0m\u001b[0;34m\u001b[0m\u001b[0;34m\u001b[0m\u001b[0m\n",
      "\u001b[0;32m~/anaconda3/envs/compling/lib/python3.9/site-packages/ipykernel/kernelbase.py\u001b[0m in \u001b[0;36mraw_input\u001b[0;34m(self, prompt)\u001b[0m\n\u001b[1;32m   1004\u001b[0m                 \u001b[0;34m\"raw_input was called, but this frontend does not support input requests.\"\u001b[0m\u001b[0;34m\u001b[0m\u001b[0;34m\u001b[0m\u001b[0m\n\u001b[1;32m   1005\u001b[0m             )\n\u001b[0;32m-> 1006\u001b[0;31m         return self._input_request(\n\u001b[0m\u001b[1;32m   1007\u001b[0m             \u001b[0mstr\u001b[0m\u001b[0;34m(\u001b[0m\u001b[0mprompt\u001b[0m\u001b[0;34m)\u001b[0m\u001b[0;34m,\u001b[0m\u001b[0;34m\u001b[0m\u001b[0;34m\u001b[0m\u001b[0m\n\u001b[1;32m   1008\u001b[0m             \u001b[0mself\u001b[0m\u001b[0;34m.\u001b[0m\u001b[0m_parent_ident\u001b[0m\u001b[0;34m[\u001b[0m\u001b[0;34m\"shell\"\u001b[0m\u001b[0;34m]\u001b[0m\u001b[0;34m,\u001b[0m\u001b[0;34m\u001b[0m\u001b[0;34m\u001b[0m\u001b[0m\n",
      "\u001b[0;32m~/anaconda3/envs/compling/lib/python3.9/site-packages/ipykernel/kernelbase.py\u001b[0m in \u001b[0;36m_input_request\u001b[0;34m(self, prompt, ident, parent, password)\u001b[0m\n\u001b[1;32m   1049\u001b[0m             \u001b[0;32mexcept\u001b[0m \u001b[0mKeyboardInterrupt\u001b[0m\u001b[0;34m:\u001b[0m\u001b[0;34m\u001b[0m\u001b[0;34m\u001b[0m\u001b[0m\n\u001b[1;32m   1050\u001b[0m                 \u001b[0;31m# re-raise KeyboardInterrupt, to truncate traceback\u001b[0m\u001b[0;34m\u001b[0m\u001b[0;34m\u001b[0m\u001b[0m\n\u001b[0;32m-> 1051\u001b[0;31m                 \u001b[0;32mraise\u001b[0m \u001b[0mKeyboardInterrupt\u001b[0m\u001b[0;34m(\u001b[0m\u001b[0;34m\"Interrupted by user\"\u001b[0m\u001b[0;34m)\u001b[0m \u001b[0;32mfrom\u001b[0m \u001b[0;32mNone\u001b[0m\u001b[0;34m\u001b[0m\u001b[0;34m\u001b[0m\u001b[0m\n\u001b[0m\u001b[1;32m   1052\u001b[0m             \u001b[0;32mexcept\u001b[0m \u001b[0mException\u001b[0m\u001b[0;34m:\u001b[0m\u001b[0;34m\u001b[0m\u001b[0;34m\u001b[0m\u001b[0m\n\u001b[1;32m   1053\u001b[0m                 \u001b[0mself\u001b[0m\u001b[0;34m.\u001b[0m\u001b[0mlog\u001b[0m\u001b[0;34m.\u001b[0m\u001b[0mwarning\u001b[0m\u001b[0;34m(\u001b[0m\u001b[0;34m\"Invalid Message:\"\u001b[0m\u001b[0;34m,\u001b[0m \u001b[0mexc_info\u001b[0m\u001b[0;34m=\u001b[0m\u001b[0;32mTrue\u001b[0m\u001b[0;34m)\u001b[0m\u001b[0;34m\u001b[0m\u001b[0;34m\u001b[0m\u001b[0m\n",
      "\u001b[0;31mKeyboardInterrupt\u001b[0m: Interrupted by user"
     ]
    }
   ],
   "source": [
    "chart = CKY_recognizer('I shot an elephant in my pajamas', test_grammar)\n",
    "pprint(chart)"
   ]
  },
  {
   "cell_type": "code",
   "execution_count": 94,
   "id": "d9ebd0dc",
   "metadata": {},
   "outputs": [
    {
     "name": "stdout",
     "output_type": "stream",
     "text": [
      "[[[NP, V, TESTE, Det, N, P, Det, N],\n",
      "  [V, TESTE, Det, N, P, Det, N],\n",
      "  [Det, N, P, Det, N],\n",
      "  [N, P, Det, N],\n",
      "  [P, Det, N],\n",
      "  [Det, N],\n",
      "  [N]],\n",
      " [[NP, V, TESTE, Det, N, P, Det],\n",
      "  [V, TESTE, Det, N, P, Det],\n",
      "  [Det, N, P, Det],\n",
      "  [N, P, Det],\n",
      "  [P, Det],\n",
      "  [Det],\n",
      "  0],\n",
      " [[NP, V, TESTE, Det, N, P],\n",
      "  [V, TESTE, Det, N, P],\n",
      "  [Det, N, P],\n",
      "  [N, P],\n",
      "  [P],\n",
      "  0,\n",
      "  0],\n",
      " [[NP, V, TESTE, Det, N], [V, TESTE, Det, N], [Det, N], [N], 0, 0, 0],\n",
      " [[NP, V, TESTE, Det], [V, TESTE, Det], [Det], 0, 0, 0, 0],\n",
      " [[NP, V, TESTE], [V, TESTE], 0, 0, 0, 0, 0],\n",
      " [[NP], 0, 0, 0, 0, 0, 0]]\n"
     ]
    }
   ],
   "source": [
    "pprint(chart)"
   ]
  },
  {
   "cell_type": "code",
   "execution_count": 63,
   "id": "7472d76d",
   "metadata": {},
   "outputs": [
    {
     "data": {
      "text/plain": [
       "19"
      ]
     },
     "execution_count": 63,
     "metadata": {},
     "output_type": "execute_result"
    }
   ],
   "source": [
    "chart[0][1]"
   ]
  },
  {
   "cell_type": "code",
   "execution_count": 89,
   "id": "4c33183c",
   "metadata": {},
   "outputs": [
    {
     "name": "stdout",
     "output_type": "stream",
     "text": [
      "1\n"
     ]
    }
   ],
   "source": [
    "for i in range(1,2):\n",
    "    print(i)"
   ]
  },
  {
   "cell_type": "code",
   "execution_count": null,
   "id": "5670dd80",
   "metadata": {},
   "outputs": [],
   "source": []
  }
 ],
 "metadata": {
  "kernelspec": {
   "display_name": "Python 3 (ipykernel)",
   "language": "python",
   "name": "python3"
  },
  "language_info": {
   "codemirror_mode": {
    "name": "ipython",
    "version": 3
   },
   "file_extension": ".py",
   "mimetype": "text/x-python",
   "name": "python",
   "nbconvert_exporter": "python",
   "pygments_lexer": "ipython3",
   "version": "3.9.7"
  }
 },
 "nbformat": 4,
 "nbformat_minor": 5
}
