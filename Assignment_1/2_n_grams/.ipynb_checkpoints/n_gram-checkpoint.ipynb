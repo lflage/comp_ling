{
 "cells": [
  {
   "cell_type": "markdown",
   "id": "39c30297",
   "metadata": {},
   "source": [
    "# Incomplete\n",
    "\n",
    "This exercise is incomplete as I was not able to run the ```ProbDistI.generate()``` method"
   ]
  },
  {
   "cell_type": "code",
   "execution_count": 27,
   "id": "2f599b7c",
   "metadata": {},
   "outputs": [],
   "source": [
    "import ngram\n",
    "from nltk.probability import ProbDistI"
   ]
  },
  {
   "cell_type": "markdown",
   "id": "5cf32168",
   "metadata": {},
   "source": [
    "# Jungle Book"
   ]
  },
  {
   "cell_type": "markdown",
   "id": "a962547a",
   "metadata": {},
   "source": [
    "Opening the tokenized corpus and treating it as a list ```jb_list```"
   ]
  },
  {
   "cell_type": "code",
   "execution_count": 5,
   "id": "f25ee324",
   "metadata": {},
   "outputs": [],
   "source": [
    "with open('../corpora/tokenized/junglebook_tokenized.txt') as jb_tk:\n",
    "    jb_list = []\n",
    "    for line in jb_tk.readlines():\n",
    "        jb_list.extend(line.split())"
   ]
  },
  {
   "cell_type": "markdown",
   "id": "e79525c1",
   "metadata": {},
   "source": [
    "Training the f"
   ]
  },
  {
   "cell_type": "code",
   "execution_count": 30,
   "id": "51f03c71",
   "metadata": {},
   "outputs": [],
   "source": [
    "my_ngram = ngram.BasicNgram(2,jb_list)[]"
   ]
  },
  {
   "cell_type": "code",
   "execution_count": null,
   "id": "bd6f3df9",
   "metadata": {},
   "outputs": [],
   "source": [
    "sentence = [\"<$>\" for i in ]\n",
    "\n",
    "for i in range(10)"
   ]
  },
  {
   "cell_type": "code",
   "execution_count": 36,
   "id": "1d66bf19",
   "metadata": {},
   "outputs": [
    {
     "ename": "AttributeError",
     "evalue": "'str' object has no attribute 'samples'",
     "output_type": "error",
     "traceback": [
      "\u001b[0;31m---------------------------------------------------------------------------\u001b[0m",
      "\u001b[0;31mAttributeError\u001b[0m                            Traceback (most recent call last)",
      "\u001b[0;32m/tmp/ipykernel_9729/4232183763.py\u001b[0m in \u001b[0;36m<module>\u001b[0;34m\u001b[0m\n\u001b[0;32m----> 1\u001b[0;31m \u001b[0mProbDistI\u001b[0m\u001b[0;34m.\u001b[0m\u001b[0mgenerate\u001b[0m\u001b[0;34m(\u001b[0m\u001b[0;34m'the'\u001b[0m\u001b[0;34m)\u001b[0m\u001b[0;34m\u001b[0m\u001b[0;34m\u001b[0m\u001b[0m\n\u001b[0m",
      "\u001b[0;32m~/anaconda3/envs/compling/lib/python3.9/site-packages/nltk/probability.py\u001b[0m in \u001b[0;36mgenerate\u001b[0;34m(self)\u001b[0m\n\u001b[1;32m    578\u001b[0m         \u001b[0mp\u001b[0m \u001b[0;34m=\u001b[0m \u001b[0mrandom\u001b[0m\u001b[0;34m.\u001b[0m\u001b[0mrandom\u001b[0m\u001b[0;34m(\u001b[0m\u001b[0;34m)\u001b[0m\u001b[0;34m\u001b[0m\u001b[0;34m\u001b[0m\u001b[0m\n\u001b[1;32m    579\u001b[0m         \u001b[0mp_init\u001b[0m \u001b[0;34m=\u001b[0m \u001b[0mp\u001b[0m\u001b[0;34m\u001b[0m\u001b[0;34m\u001b[0m\u001b[0m\n\u001b[0;32m--> 580\u001b[0;31m         \u001b[0;32mfor\u001b[0m \u001b[0msample\u001b[0m \u001b[0;32min\u001b[0m \u001b[0mself\u001b[0m\u001b[0;34m.\u001b[0m\u001b[0msamples\u001b[0m\u001b[0;34m(\u001b[0m\u001b[0;34m)\u001b[0m\u001b[0;34m:\u001b[0m\u001b[0;34m\u001b[0m\u001b[0;34m\u001b[0m\u001b[0m\n\u001b[0m\u001b[1;32m    581\u001b[0m             \u001b[0mp\u001b[0m \u001b[0;34m-=\u001b[0m \u001b[0mself\u001b[0m\u001b[0;34m.\u001b[0m\u001b[0mprob\u001b[0m\u001b[0;34m(\u001b[0m\u001b[0msample\u001b[0m\u001b[0;34m)\u001b[0m\u001b[0;34m\u001b[0m\u001b[0;34m\u001b[0m\u001b[0m\n\u001b[1;32m    582\u001b[0m             \u001b[0;32mif\u001b[0m \u001b[0mp\u001b[0m \u001b[0;34m<=\u001b[0m \u001b[0;36m0\u001b[0m\u001b[0;34m:\u001b[0m\u001b[0;34m\u001b[0m\u001b[0;34m\u001b[0m\u001b[0m\n",
      "\u001b[0;31mAttributeError\u001b[0m: 'str' object has no attribute 'samples'"
     ]
    }
   ],
   "source": [
    "ProbDistI.generate('the')"
   ]
  }
 ],
 "metadata": {
  "kernelspec": {
   "display_name": "Python 3 (ipykernel)",
   "language": "python",
   "name": "python3"
  },
  "language_info": {
   "codemirror_mode": {
    "name": "ipython",
    "version": 3
   },
   "file_extension": ".py",
   "mimetype": "text/x-python",
   "name": "python",
   "nbconvert_exporter": "python",
   "pygments_lexer": "ipython3",
   "version": "3.9.7"
  }
 },
 "nbformat": 4,
 "nbformat_minor": 5
}
