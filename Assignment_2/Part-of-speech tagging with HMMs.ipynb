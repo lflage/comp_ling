{
 "cells": [
  {
   "cell_type": "markdown",
   "id": "db32c5fc",
   "metadata": {},
   "source": [
    "# Reading the Corpus"
   ]
  },
  {
   "cell_type": "code",
   "execution_count": 7,
   "id": "9a7994d0",
   "metadata": {},
   "outputs": [],
   "source": [
    "train_path = '../Corpora/de-utb/de-train.tt'\n",
    "test_path = '../Corpora/de-utb/de-test.t'\n",
    "eval_path = '../Corpora/de-utb/de-eval.tt'"
   ]
  },
  {
   "cell_type": "code",
   "execution_count": 29,
   "id": "1988e3ad",
   "metadata": {},
   "outputs": [],
   "source": [
    "from nltk import corpus"
   ]
  },
  {
   "cell_type": "code",
   "execution_count": 32,
   "id": "8bc869b9",
   "metadata": {},
   "outputs": [],
   "source": [
    "y = corpus.reader.conll.ConllCorpusReader('../Corpora/de-utb', fileids='de-train.tt',columntypes=('words','pos'))"
   ]
  },
  {
   "cell_type": "code",
   "execution_count": 40,
   "id": "baeb32ea",
   "metadata": {},
   "outputs": [
    {
     "data": {
      "text/plain": [
       "[('Sehr', 'ADV'), ('gute', 'ADJ'), ...]"
      ]
     },
     "execution_count": 40,
     "metadata": {},
     "output_type": "execute_result"
    }
   ],
   "source": [
    "y.tagged_words()"
   ]
  },
  {
   "cell_type": "code",
   "execution_count": null,
   "id": "0295c799",
   "metadata": {},
   "outputs": [],
   "source": []
  }
 ],
 "metadata": {
  "kernelspec": {
   "display_name": "Python 3 (ipykernel)",
   "language": "python",
   "name": "python3"
  },
  "language_info": {
   "codemirror_mode": {
    "name": "ipython",
    "version": 3
   },
   "file_extension": ".py",
   "mimetype": "text/x-python",
   "name": "python",
   "nbconvert_exporter": "python",
   "pygments_lexer": "ipython3",
   "version": "3.9.7"
  }
 },
 "nbformat": 4,
 "nbformat_minor": 5
}
