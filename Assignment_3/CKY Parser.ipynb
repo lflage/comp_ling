{
 "cells": [
  {
   "cell_type": "code",
   "execution_count": 205,
   "id": "8534c462",
   "metadata": {},
   "outputs": [],
   "source": [
    "import nltk\n",
    "import numpy.matlib\n",
    "from nltk.grammar import *\n",
    "from pprint import pprint"
   ]
  },
  {
   "cell_type": "markdown",
   "id": "f4b6c7c3",
   "metadata": {},
   "source": [
    "# Loading the Corpus and Grammars"
   ]
  },
  {
   "cell_type": "code",
   "execution_count": 206,
   "id": "7ce19994",
   "metadata": {},
   "outputs": [],
   "source": [
    "# Loads the ATIS CNF grammar and the sentences. If the sentences file is not available,\n",
    "# automatically downloads it and loads it\n",
    "\n",
    "try:\n",
    "    grammar = nltk.data.load('atis/atis-grammar-cnf.cfg')\n",
    "    s = nltk.data.load('grammars/large_grammars/atis_sentences.txt')\n",
    "    t = nltk.parse.util.extract_test_sentences(s)\n",
    "    \n",
    "except LookupError:\n",
    "    nltk.download('large_grammars')\n",
    "    \n",
    "    grammar = nltk.data.load('atis/atis-grammar-cnf.cfg')\n",
    "    s = nltk.data.load('grammars/large_grammars/atis_sentences.txt')\n",
    "    t = nltk.parse.util.extract_test_sentences(s)"
   ]
  },
  {
   "cell_type": "code",
   "execution_count": null,
   "id": "2b045767",
   "metadata": {},
   "outputs": [],
   "source": [
    "with open('atis/atis-grammar-cnf.cfg','r') as string_cfg:\n",
    "    grammar1 = nltk.grammar.CFG.fromstring(string_cfg.read())\n",
    "type(grammar1)"
   ]
  },
  {
   "cell_type": "markdown",
   "id": "62b6a879",
   "metadata": {},
   "source": [
    "## Test Grammar"
   ]
  },
  {
   "cell_type": "code",
   "execution_count": null,
   "id": "3cbff4fc",
   "metadata": {},
   "outputs": [],
   "source": [
    "test_grammar_string = '''\n",
    "S -> NP VP\n",
    "NP -> Det N\n",
    "NP -> NP PP\n",
    "PP -> P NP\n",
    "VP -> V NP\n",
    "VP -> VP PP\n",
    "\n",
    "NP -> 'I'\n",
    "N -> 'elephant'\n",
    "N -> 'pajamas'\n",
    "V -> 'shot'\n",
    "P -> 'in'\n",
    "Det -> 'an'\n",
    "Det -> 'my'\n",
    "'''\n",
    "\n",
    "test_grammar = nltk.grammar.CFG.fromstring(test_grammar_string)\n",
    "test_grammar.productions()"
   ]
  },
  {
   "cell_type": "code",
   "execution_count": null,
   "id": "8c111a8f",
   "metadata": {},
   "outputs": [],
   "source": [
    "class CKY:\n",
    "    def __init__(self,sentence, grammar):\n",
    "        '''Class created for the CKY algorithm. It automatically recognizes the sentence\n",
    "        at first, if it is in the grammar we can generate the parse tree\n",
    "        :param sentence: sentence to be parser\n",
    "        :type sentence: str\n",
    "        :param grammar: grammar of the language\n",
    "        :type NLTK.grammar.CFG\n",
    "        '''\n",
    "        self.grammar = grammar\n",
    "        self.sent_list = sentence.split()\n",
    "        n = len(self.sent_list)\n",
    "        \n",
    "        self.chart = [[None for i in range(n)] for j in range(n)]\n",
    "        \n",
    "        \n",
    "        for i in range(1, n+1):\n",
    "            # Adds all possible terminal nodes according to the grammar\n",
    "            self.chart[n-i][i-1] = [rule.lhs()\n",
    "                            for rule in self.grammar.productions(rhs=self.sent_list[i-1])]\n",
    "            \n",
    "        for b in range(2, n+1):\n",
    "            for i in range(0, n-b+1):\n",
    "                list_of_As = []\n",
    "                for k in range(1, b):\n",
    "                    B = self.chart[n-i-k][i]\n",
    "                    C = self.chart[n-b-i][i + k]\n",
    "                    if B and C:\n",
    "                        # If B and C exist then compare them. \n",
    "                        # Saves checking every possible k point\n",
    "                        list_of_As.append(CKY.check_grammar(\n",
    "                            self.grammar,B,C))\n",
    "                    else:\n",
    "                        continue       \n",
    "                # Filters the list of None objects\n",
    "                self.chart[n-b-i][i] = list(filter(None,list_of_As))\n",
    "\n",
    "                \n",
    "    \n",
    "    def check_grammar(gram, B,C):\n",
    "        '''Function created to check if a production with two Non terminals B and C,\n",
    "        exist in a language\n",
    "        :param gram: grammar of the language \n",
    "        :type gram: nltk.grammar.CFG\n",
    "        :param B,C: list of all possible Nonterminal objects for the righ corner(B) and\n",
    "                    for the left corner(C) of the production rule\n",
    "        :type: list\n",
    "        :returns: a Non terminal corresponding to the left hand side of the found rule\n",
    "        :return type: nltk.grammar.CFG.Nonterminal\n",
    "        '''\n",
    "        for element_B in B:\n",
    "            # for every production with element_B on the left side of the\n",
    "            # righ hand side, check if there is a production with element_C\n",
    "            # on the right side of right hand side\n",
    "            \n",
    "            for prod in gram.productions(rhs=element_B):\n",
    "                for element_C in C:\n",
    "                    # the method .rhs() from the NLTK object Production consists\n",
    "                    # of a tuple with two Nonterminal objects. Therefore the comparison\n",
    "                    # works.\n",
    "                    if prod.rhs() == (element_B, element_C):\n",
    "                        return(prod.lhs())\n",
    "\n",
    "    \n",
    "    def print_chart(self):\n",
    "        pprint(self.chart)\n",
    "        \n"
   ]
  },
  {
   "cell_type": "code",
   "execution_count": null,
   "id": "4ca5fd04",
   "metadata": {},
   "outputs": [],
   "source": [
    "racog = CKY('I shot an elephant in my pajamas', test_grammar)\n",
    "racog.print_chart()"
   ]
  }
 ],
 "metadata": {
  "kernelspec": {
   "display_name": "Python 3 (ipykernel)",
   "language": "python",
   "name": "python3"
  },
  "language_info": {
   "codemirror_mode": {
    "name": "ipython",
    "version": 3
   },
   "file_extension": ".py",
   "mimetype": "text/x-python",
   "name": "python",
   "nbconvert_exporter": "python",
   "pygments_lexer": "ipython3",
   "version": "3.9.7"
  }
 },
 "nbformat": 4,
 "nbformat_minor": 5
}
